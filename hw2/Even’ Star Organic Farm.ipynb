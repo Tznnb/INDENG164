{
 "cells": [
  {
   "cell_type": "markdown",
   "id": "eab22604",
   "metadata": {},
   "source": [
    "# Even' Star Organic Farm"
   ]
  },
  {
   "cell_type": "markdown",
   "id": "d18bd627",
   "metadata": {},
   "source": [
    "### Import Libraries"
   ]
  },
  {
   "cell_type": "code",
   "execution_count": 1,
   "id": "8a6132b3",
   "metadata": {},
   "outputs": [],
   "source": [
    "import sys\n",
    "import numpy as np\n",
    "\n",
    "solver = 'appsi_highs'\n",
    "\n",
    "import pyomo.environ as pyo\n",
    "SOLVER = pyo.SolverFactory(solver)\n",
    "\n",
    "assert SOLVER.available(), f\"Solver {solver} is not available.\""
   ]
  },
  {
   "cell_type": "markdown",
   "id": "b26b82c7",
   "metadata": {},
   "source": [
    "### Our optimization model in (b):\n",
    "$$\n",
    "\\begin{aligned}\n",
    "  \\max \\quad &19\\cdot x_{11} + 18.9\\cdot x_{12} + 22\\cdot x_{13} + \\\\\n",
    "  &24\\cdot x_{21} + 24.3\\cdot x_{22} + 28\\cdot x_{23} + \\\\\n",
    "  &22\\cdot x_{31} + 22.5\\cdot x_{32} + 26\\cdot x_{33} \\\\\n",
    "  \\text{s.t.} \\quad & x_{11} + x_{12} + x_{13} \\leq 800\\\\\n",
    "  & x_{21} + x_{22} + x_{23} \\leq 400\\\\\n",
    "  & x_{31} + x_{32} + x_{33} \\leq 500\\\\\n",
    "  & x_{13} + x_{23} + x_{33} \\leq 80 \\\\\n",
    "  & x_{11}, x_{12}, x_{13}, x_{21}, x_{22}, x_{23}, x_{31}, x_{32}, x_{33} \\geq 0\n",
    "\\end{aligned}\n",
    "$$\n"
   ]
  },
  {
   "cell_type": "code",
   "execution_count": 2,
   "id": "0d2e8119",
   "metadata": {
    "scrolled": true
   },
   "outputs": [
    {
     "name": "stdout",
     "output_type": "stream",
     "text": [
      "x = (800.0, 0.0, 0.0, 0.0, 320.0, 80.0, 0.0, 500.0, 0.0)\n",
      "optimal total profit = 36466.0\n"
     ]
    }
   ],
   "source": [
    "# Construct a model\n",
    "model = pyo.ConcreteModel(\"Even' Star Organic Farm\")\n",
    "\n",
    "# Decision variables and their domains\n",
    "model.x11 = pyo.Var(domain=pyo.NonNegativeReals)\n",
    "model.x12 = pyo.Var(domain=pyo.NonNegativeReals)\n",
    "model.x13 = pyo.Var(domain=pyo.NonNegativeReals)\n",
    "model.x21 = pyo.Var(domain=pyo.NonNegativeReals)\n",
    "model.x22 = pyo.Var(domain=pyo.NonNegativeReals)\n",
    "model.x23 = pyo.Var(domain=pyo.NonNegativeReals)\n",
    "model.x31 = pyo.Var(domain=pyo.NonNegativeReals)\n",
    "model.x32 = pyo.Var(domain=pyo.NonNegativeReals)\n",
    "model.x33 = pyo.Var(domain=pyo.NonNegativeReals)\n",
    "\n",
    "# Objective function\n",
    "model.profit = pyo.Objective(expr=(\n",
    "    19*model.x11 + 18.9*model.x12 + 22*model.x13 +\n",
    "    24*model.x21 + 24.3*model.x22 + 28*model.x23 +\n",
    "    22*model.x31 + 22.5*model.x32 + 26*model.x33\n",
    "), sense=pyo.maximize)\n",
    "\n",
    "\n",
    "# Constraints\n",
    "model.Watermelon = pyo.Constraint(expr=model.x11 + model.x12 + model.x13 <= 800)\n",
    "model.Basil = pyo.Constraint(expr=model.x21 + model.x22 + model.x23 <= 400)\n",
    "model.Cucumbers = pyo.Constraint(expr=model.x31 + model.x32 + model.x33 <= 500)\n",
    "model.truckCapacity = pyo.Constraint(expr=model.x13 + model.x23 + model.x33 <= 80)\n",
    "\n",
    "# Solve and print solution\n",
    "SOLVER.solve(model)\n",
    "print(f\"x = ({model.x11.value:.1f}, {model.x12.value:.1f}, {model.x13.value:.1f}, \" + \\\n",
    "      f\"{model.x21.value:.1f}, {model.x22.value:.1f}, {model.x23.value:.1f}, \" + \\\n",
    "      f\"{model.x31.value:.1f}, {model.x32.value:.1f}, {model.x33.value:.1f})\")\n",
    "print(f\"optimal total profit = {pyo.value(model.profit):.1f}\")"
   ]
  },
  {
   "cell_type": "markdown",
   "id": "d2d713a0",
   "metadata": {},
   "source": [
    "### Output: \n",
    "The optimal solution for the decision variables is as follows:\n",
    "\\begin{align*}\n",
    "x_{11} &= 800.0, \\\\\n",
    "x_{12} &= 0.0, \\\\\n",
    "x_{13} &= 0.0, \\\\\n",
    "x_{21} &= 0.0, \\\\\n",
    "x_{22} &= 320.0, \\\\\n",
    "x_{23} &= 80.0, \\\\\n",
    "x_{31} &= 0.0, \\\\\n",
    "x_{32} &= 500.0, \\\\\n",
    "x_{33} &= 0.0.\n",
    "\\end{align*}\n",
    "The optimal total profit is $36466.0$.\n"
   ]
  },
  {
   "cell_type": "markdown",
   "id": "d3c53902",
   "metadata": {},
   "source": [
    "### Dual problem"
   ]
  },
  {
   "cell_type": "code",
   "execution_count": 3,
   "id": "85923905",
   "metadata": {
    "scrolled": false
   },
   "outputs": [
    {
     "name": "stdout",
     "output_type": "stream",
     "text": [
      "Model \"Even' Star Organic Farm\"\n",
      "\n",
      "  Variables:\n",
      "    x11 : Size=1, Index=None\n",
      "        Key  : Lower : Value : Upper : Fixed : Stale : Domain\n",
      "        None :     0 : 800.0 :  None : False : False : NonNegativeReals\n",
      "    x12 : Size=1, Index=None\n",
      "        Key  : Lower : Value : Upper : Fixed : Stale : Domain\n",
      "        None :     0 :   0.0 :  None : False : False : NonNegativeReals\n",
      "    x13 : Size=1, Index=None\n",
      "        Key  : Lower : Value : Upper : Fixed : Stale : Domain\n",
      "        None :     0 :   0.0 :  None : False : False : NonNegativeReals\n",
      "    x21 : Size=1, Index=None\n",
      "        Key  : Lower : Value : Upper : Fixed : Stale : Domain\n",
      "        None :     0 :   0.0 :  None : False : False : NonNegativeReals\n",
      "    x22 : Size=1, Index=None\n",
      "        Key  : Lower : Value : Upper : Fixed : Stale : Domain\n",
      "        None :     0 : 320.0 :  None : False : False : NonNegativeReals\n",
      "    x23 : Size=1, Index=None\n",
      "        Key  : Lower : Value : Upper : Fixed : Stale : Domain\n",
      "        None :     0 :  80.0 :  None : False : False : NonNegativeReals\n",
      "    x31 : Size=1, Index=None\n",
      "        Key  : Lower : Value : Upper : Fixed : Stale : Domain\n",
      "        None :     0 :   0.0 :  None : False : False : NonNegativeReals\n",
      "    x32 : Size=1, Index=None\n",
      "        Key  : Lower : Value : Upper : Fixed : Stale : Domain\n",
      "        None :     0 : 500.0 :  None : False : False : NonNegativeReals\n",
      "    x33 : Size=1, Index=None\n",
      "        Key  : Lower : Value : Upper : Fixed : Stale : Domain\n",
      "        None :     0 :   0.0 :  None : False : False : NonNegativeReals\n",
      "\n",
      "  Objectives:\n",
      "    profit : Size=1, Index=None, Active=True\n",
      "        Key  : Active : Value\n",
      "        None :   True : 36466.0\n",
      "\n",
      "  Constraints:\n",
      "    Watermelon : Size=1\n",
      "        Key  : Lower : Body  : Upper\n",
      "        None :  None : 800.0 : 800.0\n",
      "    Basil : Size=1\n",
      "        Key  : Lower : Body  : Upper\n",
      "        None :  None : 400.0 : 400.0\n",
      "    Cucumbers : Size=1\n",
      "        Key  : Lower : Body  : Upper\n",
      "        None :  None : 500.0 : 500.0\n",
      "    truckCapacity : Size=1\n",
      "        Key  : Lower : Body : Upper\n",
      "        None :  None : 80.0 :  80.0\n",
      "None\n",
      "dual : Direction=Suffix.IMPORT, Datatype=Suffix.FLOAT\n",
      "    Key           : Value\n",
      "            Basil :               24.3\n",
      "        Cucumbers :               22.5\n",
      "       Watermelon :               19.0\n",
      "    truckCapacity : 3.6999999999999993\n",
      "None\n"
     ]
    }
   ],
   "source": [
    "# if you want to get the solutions of the dual problem, import pyomo suffixes\n",
    "model.dual = pyo.Suffix(direction=pyo.Suffix.IMPORT)\n",
    "\n",
    "# Solve and print solution\n",
    "SOLVER.solve(model)\n",
    "print(model.display())\n",
    "\n",
    "# Print dual solution (shadow prices)\n",
    "print(model.dual.display())"
   ]
  },
  {
   "cell_type": "markdown",
   "id": "c656a334",
   "metadata": {},
   "source": [
    "The shawdow price of Basil is the highest. "
   ]
  }
 ],
 "metadata": {
  "kernelspec": {
   "display_name": "Python 3 (ipykernel)",
   "language": "python",
   "name": "python3"
  },
  "language_info": {
   "codemirror_mode": {
    "name": "ipython",
    "version": 3
   },
   "file_extension": ".py",
   "mimetype": "text/x-python",
   "name": "python",
   "nbconvert_exporter": "python",
   "pygments_lexer": "ipython3",
   "version": "3.9.7"
  }
 },
 "nbformat": 4,
 "nbformat_minor": 5
}
