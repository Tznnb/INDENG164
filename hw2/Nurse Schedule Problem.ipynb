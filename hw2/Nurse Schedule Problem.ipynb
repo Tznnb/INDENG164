{
 "cells": [
  {
   "cell_type": "markdown",
   "id": "7f71a50f-7186-40ae-9b9b-bb807072cee9",
   "metadata": {},
   "source": [
    "### Import Libraries"
   ]
  },
  {
   "cell_type": "code",
   "execution_count": 1,
   "id": "c22515d8-f9ae-47b2-9c0b-a7f3397c327d",
   "metadata": {
    "tags": []
   },
   "outputs": [],
   "source": [
    "import sys\n",
    "import numpy as np\n",
    "\n",
    "solver = 'appsi_highs'\n",
    "\n",
    "import pyomo.environ as pyo\n",
    "SOLVER = pyo.SolverFactory(solver)\n",
    "\n",
    "assert SOLVER.available(), f\"Solver {solver} is not available.\""
   ]
  },
  {
   "cell_type": "markdown",
   "id": "8cc1eaec-c379-4ac9-b6eb-34833a870cab",
   "metadata": {},
   "source": [
    "### We'd like to solve this linear optimization problem: \n",
    "\\begin{align*}\n",
    "\t\\underset{x}{\\min} \\quad & \\sum_{i=1}^{7} x_i \\\\\n",
    "\t\\text{s.t.} \\quad & x_1 + x_4 + x_5 + x_6 + x_7 \\geq 100 \\\\\n",
    "\t& x_1 + x_2 + x_5 + x_6 + x_7 \\geq 90 \\\\\n",
    "\t& x_1 + x_2 + x_3 + x_6 + x_7 \\geq 80 \\\\\n",
    "\t& x_1 + x_2 + x_3 + x_4 + x_7 \\geq 80 \\\\\n",
    "\t& x_1 + x_2 + x_3 + x_4 + x_5 \\geq 100 \\\\\n",
    "\t& x_2 + x_3 + x_4 + x_5 + x_6 \\geq 50 \\\\\n",
    "\t& x_3 + x_4 + x_5 + x_6 + x_7 \\geq 30\n",
    "\\end{align*}"
   ]
  },
  {
   "cell_type": "code",
   "execution_count": 2,
   "id": "2a17e257-d802-4f33-80d1-f8dd4b7aaeda",
   "metadata": {},
   "outputs": [
    {
     "name": "stdout",
     "output_type": "stream",
     "text": [
      "x = (60.0, 0.0, 10.0, 10.0, 20.0, 10.0, 0.0)\n",
      "optimal value = 110.0\n"
     ]
    }
   ],
   "source": [
    "model = pyo.ConcreteModel(\"Nurse Schedule Problem\")\n",
    "\n",
    "# Decision variables and their domains\n",
    "model.x1 = pyo.Var(domain=pyo.NonNegativeReals)\n",
    "model.x2 = pyo.Var(domain=pyo.NonNegativeReals)\n",
    "model.x3 = pyo.Var(domain=pyo.NonNegativeReals)\n",
    "model.x4 = pyo.Var(domain=pyo.NonNegativeReals)\n",
    "model.x5 = pyo.Var(domain=pyo.NonNegativeReals)\n",
    "model.x6 = pyo.Var(domain=pyo.NonNegativeReals)\n",
    "model.x7 = pyo.Var(domain=pyo.NonNegativeReals)\n",
    "\n",
    "# Objective function\n",
    "model.profit = pyo.Objective(expr=model.x1 + model.x2 + model.x3 + model.x4 + model.x5 + model.x6 + model.x7, sense=pyo.minimize)\n",
    "\n",
    "# Constraints\n",
    "model.Mon = pyo.Constraint(expr=model.x1 + model.x4 + model.x5 + model.x6 + model.x7 >= 100)\n",
    "model.Tue = pyo.Constraint(expr=model.x1 + model.x2 + model.x5 + model.x6 + model.x7 >= 90)\n",
    "model.Wed = pyo.Constraint(expr=model.x1 + model.x2 + model.x3 + model.x6 + model.x7 >= 80)\n",
    "model.Thu = pyo.Constraint(expr=model.x1 + model.x2 + model.x3 + model.x4 + model.x7 >= 80)\n",
    "model.Fri = pyo.Constraint(expr=model.x1 + model.x2 + model.x3 + model.x4 + model.x5 >= 100)\n",
    "model.Sat = pyo.Constraint(expr=model.x2 + model.x3 + model.x4 + model.x5 + model.x6 >= 50)\n",
    "model.Sun = pyo.Constraint(expr=model.x3 + model.x4 + model.x5 + model.x6 + model.x7 >= 30)\n",
    "\n",
    "# Solve and print solution\n",
    "SOLVER.solve(model)\n",
    "print(f\"x = ({model.x1.value:.1f}, {model.x2.value:.1f}, {model.x3.value:.1f}, {model.x4.value:.1f}, {model.x5.value:.1f}, {model.x6.value:.1f}, {model.x7.value:.1f})\")\n",
    "print(f\"optimal value = {pyo.value(model.profit):.1f}\")"
   ]
  },
  {
   "cell_type": "markdown",
   "id": "0ff5fe41-20de-4e20-9bc1-fc276d366ff7",
   "metadata": {},
   "source": [
    "### However, a more standard form may help reduce the amount of code. \n",
    "$$\n",
    "\\begin{aligned}\n",
    "\\underset{x}{\\min} \\quad & c^{T}x \\\\\n",
    "\\text{s.t.} \\quad & Ax \\geq b \\\\\n",
    "& x \\geq 0\n",
    "\\end{aligned}\n",
    "$$\n",
    "in which\n",
    "$$\n",
    "c = \\begin{pmatrix} 1 & 1 & 1 & 1 & 1 & 1 & 1 \\end{pmatrix}^{T}\n",
    "$$\n",
    "\n",
    "$$\n",
    "b = \\begin{pmatrix} 100 & 90 & 80 & 80 & 100 & 50 & 30 \\end{pmatrix}^{T}\n",
    "$$\n",
    "\n",
    "$$\n",
    "A = \\begin{pmatrix}\n",
    "    1 & 0 & 0 & 1 & 1 & 1 & 1 \\\\\n",
    "    1 & 1 & 0 & 0 & 1 & 1 & 1 \\\\\n",
    "    1 & 1 & 1 & 0 & 0 & 1 & 1 \\\\\n",
    "    1 & 1 & 1 & 1 & 0 & 0 & 1 \\\\\n",
    "    1 & 1 & 1 & 1 & 1 & 0 & 0 \\\\\n",
    "    0 & 1 & 1 & 1 & 1 & 1 & 0 \\\\\n",
    "    0 & 0 & 1 & 1 & 1 & 1 & 1\n",
    "\\end{pmatrix}\n",
    "$$\n"
   ]
  },
  {
   "cell_type": "code",
   "execution_count": 3,
   "id": "5a9353b5-3526-47cd-976c-d50dd421fecb",
   "metadata": {},
   "outputs": [
    {
     "name": "stdout",
     "output_type": "stream",
     "text": [
      "x = (60.0, 0.0, 10.0, 10.0, 20.0, 10.0, 0.0)\n",
      "optimal value = 110.0\n"
     ]
    }
   ],
   "source": [
    "# use Concrete models\n",
    "model = pyo.ConcreteModel(\"Nurse Schedule Problem by standard form\")\n",
    "\n",
    "# Define the number of variables and constraints\n",
    "n_vars = 7\n",
    "n_constraints = 7\n",
    "\n",
    "# Decision variables and their domain\n",
    "model.x = pyo.Var(range(n_vars), domain=pyo.NonNegativeReals)\n",
    "\n",
    "# Define the vectors and matrices\n",
    "c = np.array([1, 1, 1, 1, 1, 1, 1])\n",
    "A = np.array([\n",
    "    [1, 0, 0, 1, 1, 1, 1],\n",
    "    [1, 1, 0, 0, 1, 1, 1],\n",
    "    [1, 1, 1, 0, 0, 1, 1],\n",
    "    [1, 1, 1, 1, 0, 0, 1],\n",
    "    [1, 1, 1, 1, 1, 0, 0],\n",
    "    [0, 1, 1, 1, 1, 1, 0],\n",
    "    [0, 0, 1, 1, 1, 1, 1]\n",
    "])\n",
    "b = np.array([100, 90, 80, 80, 100, 50, 30])\n",
    "\n",
    "# Objective function\n",
    "model.profit = pyo.Objective(\n",
    "    expr=sum(c[i] * model.x[i] for i in range(n_vars)), sense=pyo.minimize\n",
    ")\n",
    "\n",
    "# Constraints\n",
    "model.constraints = pyo.ConstraintList()\n",
    "for i in range(n_constraints):\n",
    "    model.constraints.add(expr=sum(A[i, j] * model.x[j] for j in range(n_vars)) >= b[i])\n",
    "    \n",
    "# Solve and print solution\n",
    "SOLVER.solve(model)\n",
    "optimal_x = [pyo.value(model.x[i]) for i in range(n_vars)]\n",
    "print(f\"x = {tuple(np.round(optimal_x, 1))}\")\n",
    "print(f\"optimal value = {pyo.value(model.profit):.1f}\")"
   ]
  }
 ],
 "metadata": {
  "kernelspec": {
   "display_name": "Python 3 (ipykernel)",
   "language": "python",
   "name": "python3"
  },
  "language_info": {
   "codemirror_mode": {
    "name": "ipython",
    "version": 3
   },
   "file_extension": ".py",
   "mimetype": "text/x-python",
   "name": "python",
   "nbconvert_exporter": "python",
   "pygments_lexer": "ipython3",
   "version": "3.9.7"
  }
 },
 "nbformat": 4,
 "nbformat_minor": 5
}
