{
 "cells": [
  {
   "cell_type": "markdown",
   "id": "0014a878",
   "metadata": {},
   "source": [
    "# Swimming Problem"
   ]
  },
  {
   "cell_type": "markdown",
   "id": "93b367ce",
   "metadata": {},
   "source": [
    "## Import Libraries"
   ]
  },
  {
   "cell_type": "code",
   "execution_count": 1,
   "id": "1223a16f",
   "metadata": {},
   "outputs": [],
   "source": [
    "import sys\n",
    "import numpy as np\n",
    "import pandas as pd\n",
    "\n",
    "solver = 'appsi_highs'\n",
    "\n",
    "import pyomo.environ as pyo\n",
    "SOLVER = pyo.SolverFactory(solver)\n",
    "\n",
    "assert SOLVER.available(), f\"Solver {solver} is not available.\""
   ]
  },
  {
   "cell_type": "markdown",
   "id": "a9eba83e",
   "metadata": {},
   "source": [
    "## Data Preprocessing"
   ]
  },
  {
   "cell_type": "code",
   "execution_count": 2,
   "id": "b91a4f68",
   "metadata": {},
   "outputs": [],
   "source": [
    "time_values = [[37.7, 32.9, 33.8, 37.0, 35.4],\n",
    "               [43.4, 33.1, 42.2, 34.7, 41.8],\n",
    "               [33.3, 28.5, 38.9, 30.4, 33.6],\n",
    "               [29.2, 26.4, 29.6, 28.5, 31.1]]\n",
    "stroke_list = ['Backstroke', 'Breaststroke', 'Butterfly', 'Freestyle']\n",
    "swimmer_list = ['Carl', 'Chris', 'David', 'Tony', 'Ken']"
   ]
  },
  {
   "cell_type": "markdown",
   "id": "41dd506a",
   "metadata": {},
   "source": [
    "## Construct the Model"
   ]
  },
  {
   "cell_type": "code",
   "execution_count": 3,
   "id": "964d9e1a",
   "metadata": {},
   "outputs": [],
   "source": [
    "def swimming(swimmer_num, stroke_num, time_values):\n",
    "    # create a model\n",
    "    model = pyo.ConcreteModel(\"Swimming Problem\")\n",
    "\n",
    "    # Sets of swimmers and strokes\n",
    "    model.strokes = pyo.RangeSet(stroke_num)\n",
    "    model.swimmers = pyo.RangeSet(swimmer_num)\n",
    "\n",
    "    # decision variables\n",
    "    model.x = pyo.Var(model.strokes, model.swimmers, domain=pyo.Binary)\n",
    "\n",
    "    # get times parameters, and i:stroke, j:swimmer\n",
    "    best_times = {(i, j): time_values[i - 1][j - 1] for i in model.strokes for j in model.swimmers}\n",
    "    model.Times = pyo.Param(model.strokes, model.swimmers, initialize=best_times)\n",
    "\n",
    "    # objective function\n",
    "    @model.Objective(sense=pyo.minimize)\n",
    "    def swimming_goal(model):\n",
    "        return sum(model.x[i, j] * model.Times[i, j] for i in model.strokes for j in model.swimmers)\n",
    "\n",
    "    # constraints\n",
    "    @model.Constraint(model.swimmers)\n",
    "    def swimmer_constraint(model, j):\n",
    "        return sum(model.x[i, j] for i in model.strokes) <= 1\n",
    "\n",
    "    @model.Constraint(model.strokes)\n",
    "    def stroke_constraint(model, i):\n",
    "        return sum(model.x[i, j] for j in model.swimmers) == 1\n",
    "\n",
    "    return model"
   ]
  },
  {
   "cell_type": "markdown",
   "id": "ff978830",
   "metadata": {},
   "source": [
    "## Solve the Model"
   ]
  },
  {
   "cell_type": "code",
   "execution_count": 4,
   "id": "8a080a86",
   "metadata": {},
   "outputs": [],
   "source": [
    "def solve_model(model):\n",
    "    SOLVER.solve(model)\n",
    "    model.display()"
   ]
  },
  {
   "cell_type": "code",
   "execution_count": 5,
   "id": "565aa08e",
   "metadata": {},
   "outputs": [
    {
     "name": "stdout",
     "output_type": "stream",
     "text": [
      "Model Swimming Problem\n",
      "\n",
      "  Variables:\n",
      "    x : Size=20, Index=x_index\n",
      "        Key    : Lower : Value : Upper : Fixed : Stale : Domain\n",
      "        (1, 1) :     0 :   0.0 :     1 : False : False : Binary\n",
      "        (1, 2) :     0 :   0.0 :     1 : False : False : Binary\n",
      "        (1, 3) :     0 :   1.0 :     1 : False : False : Binary\n",
      "        (1, 4) :     0 :   0.0 :     1 : False : False : Binary\n",
      "        (1, 5) :     0 :  -0.0 :     1 : False : False : Binary\n",
      "        (2, 1) :     0 :   0.0 :     1 : False : False : Binary\n",
      "        (2, 2) :     0 :  -0.0 :     1 : False : False : Binary\n",
      "        (2, 3) :     0 :   0.0 :     1 : False : False : Binary\n",
      "        (2, 4) :     0 :   1.0 :     1 : False : False : Binary\n",
      "        (2, 5) :     0 :   0.0 :     1 : False : False : Binary\n",
      "        (3, 1) :     0 :   0.0 :     1 : False : False : Binary\n",
      "        (3, 2) :     0 :   1.0 :     1 : False : False : Binary\n",
      "        (3, 3) :     0 :   0.0 :     1 : False : False : Binary\n",
      "        (3, 4) :     0 :  -0.0 :     1 : False : False : Binary\n",
      "        (3, 5) :     0 :   0.0 :     1 : False : False : Binary\n",
      "        (4, 1) :     0 :   1.0 :     1 : False : False : Binary\n",
      "        (4, 2) :     0 :  -0.0 :     1 : False : False : Binary\n",
      "        (4, 3) :     0 :   0.0 :     1 : False : False : Binary\n",
      "        (4, 4) :     0 :   0.0 :     1 : False : False : Binary\n",
      "        (4, 5) :     0 :   0.0 :     1 : False : False : Binary\n",
      "\n",
      "  Objectives:\n",
      "    swimming_goal : Size=1, Index=None, Active=True\n",
      "        Key  : Active : Value\n",
      "        None :   True : 126.2\n",
      "\n",
      "  Constraints:\n",
      "    swimmer_constraint : Size=5\n",
      "        Key : Lower : Body : Upper\n",
      "          1 :  None :  1.0 :   1.0\n",
      "          2 :  None :  1.0 :   1.0\n",
      "          3 :  None :  1.0 :   1.0\n",
      "          4 :  None :  1.0 :   1.0\n",
      "          5 :  None :  0.0 :   1.0\n",
      "    stroke_constraint : Size=4\n",
      "        Key : Lower : Body : Upper\n",
      "          1 :   1.0 :  1.0 :   1.0\n",
      "          2 :   1.0 :  1.0 :   1.0\n",
      "          3 :   1.0 :  1.0 :   1.0\n",
      "          4 :   1.0 :  1.0 :   1.0\n"
     ]
    }
   ],
   "source": [
    "model = swimming(5, 4, time_values)\n",
    "solve_model(model)"
   ]
  },
  {
   "cell_type": "markdown",
   "id": "9cea70ed",
   "metadata": {},
   "source": [
    "## Result Visualization"
   ]
  },
  {
   "cell_type": "code",
   "execution_count": 6,
   "id": "e5a7aa93",
   "metadata": {},
   "outputs": [],
   "source": [
    "def visualization(model, stroke_list, swimmer_list):\n",
    "    # show in index\n",
    "    print(\"Show in index: \")\n",
    "    for stroke in model.strokes:\n",
    "        for swimmer in model.swimmers:\n",
    "            if model.x[stroke, swimmer].value == 1:\n",
    "                print(f\"The stroke {stroke}: swimmer {swimmer}, the corresponding time is {model.Times[stroke, swimmer]}s. \")\n",
    "    print()\n",
    "    print(\"Show in names: \")\n",
    "    for stroke in model.strokes:\n",
    "        for swimmer in model.swimmers:\n",
    "            if model.x[stroke, swimmer].value == 1:\n",
    "                print(f\"The swimmer for {stroke_list[stroke-1]} is: {swimmer_list[swimmer-1]}, the corresponding time is {model.Times[stroke, swimmer]}s. \")\n",
    "    print(f\"\\nThe minimum total time is {pyo.value(model.swimming_goal)}. \")"
   ]
  },
  {
   "cell_type": "code",
   "execution_count": 7,
   "id": "1e473646",
   "metadata": {},
   "outputs": [
    {
     "name": "stdout",
     "output_type": "stream",
     "text": [
      "Show in index: \n",
      "The stroke 1: swimmer 3, the corresponding time is 33.8s. \n",
      "The stroke 2: swimmer 4, the corresponding time is 34.7s. \n",
      "The stroke 3: swimmer 2, the corresponding time is 28.5s. \n",
      "The stroke 4: swimmer 1, the corresponding time is 29.2s. \n",
      "\n",
      "Show in names: \n",
      "The swimmer for Backstroke is: David, the corresponding time is 33.8s. \n",
      "The swimmer for Breaststroke is: Tony, the corresponding time is 34.7s. \n",
      "The swimmer for Butterfly is: Chris, the corresponding time is 28.5s. \n",
      "The swimmer for Freestyle is: Carl, the corresponding time is 29.2s. \n",
      "\n",
      "The minimum total time is 126.2. \n"
     ]
    }
   ],
   "source": [
    "visualization(model, stroke_list, swimmer_list)"
   ]
  }
 ],
 "metadata": {
  "kernelspec": {
   "display_name": "Python 3 (ipykernel)",
   "language": "python",
   "name": "python3"
  },
  "language_info": {
   "codemirror_mode": {
    "name": "ipython",
    "version": 3
   },
   "file_extension": ".py",
   "mimetype": "text/x-python",
   "name": "python",
   "nbconvert_exporter": "python",
   "pygments_lexer": "ipython3",
   "version": "3.9.7"
  }
 },
 "nbformat": 4,
 "nbformat_minor": 5
}
