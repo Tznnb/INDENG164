{
 "cells": [
  {
   "cell_type": "markdown",
   "metadata": {
    "colab": {
     "base_uri": "https://localhost:8080/"
    },
    "id": "HqinttouAi4t",
    "outputId": "3520e6b9-23d3-4766-b1bb-c12b3fb968e1"
   },
   "source": [
    "# Extended Portfolio Optimization Problem"
   ]
  },
  {
   "cell_type": "markdown",
   "metadata": {},
   "source": [
    "## Import Libraries"
   ]
  },
  {
   "cell_type": "code",
   "execution_count": 1,
   "metadata": {},
   "outputs": [],
   "source": [
    "import sys, os\n",
    "\n",
    "if 'google.colab' in sys.modules:\n",
    "    %pip install idaes-pse --pre >/dev/null 2>/dev/null\n",
    "    !idaes get-extensions --to ./bin \n",
    "    os.environ['PATH'] += ':bin'\n",
    "    solver = \"ipopt\"\n",
    "else:\n",
    "    solver = \"mosek_direct\"\n",
    "\n",
    "import pyomo.environ as pyo\n",
    "SOLVER = pyo.SolverFactory(solver)\n",
    "assert SOLVER.available(), f\"Solver {solver} is not available.\"\n",
    "\n",
    "import numpy as np\n",
    "import pandas as pd\n",
    "import matplotlib.pyplot as plt"
   ]
  },
  {
   "cell_type": "markdown",
   "metadata": {},
   "source": [
    "## Data Preprocessing"
   ]
  },
  {
   "cell_type": "code",
   "execution_count": 2,
   "metadata": {},
   "outputs": [
    {
     "name": "stdout",
     "output_type": "stream",
     "text": [
      "Is Sigma positive semidefinite? True\n"
     ]
    }
   ],
   "source": [
    "# Set the seed for reproducibility\n",
    "np.random.seed(5)\n",
    "\n",
    "n = 10\n",
    "\n",
    "# Generate mean of the portfolio pbar\n",
    "pbar = np.ones((n, 1)) * 0.03 + np.vstack((np.random.rand(n-1, 1), np.array([[0]]))) * 0.12\n",
    "\n",
    "# Generate covariance matrix of the portfolio Sigma\n",
    "Sigma = np.random.randn(n, n)\n",
    "Sigma = np.dot(Sigma.T, Sigma)\n",
    "Sigma = Sigma / np.max(np.abs(np.diag(Sigma))) * 0.2\n",
    "Sigma[:, n-1] = np.zeros(n)\n",
    "Sigma[n-1, :] = np.zeros((1, n))\n",
    "\n",
    "# If you want to verify the positive semidefiniteness of the matrix Sigma\n",
    "# Calculate the eigenvalues of S\n",
    "eigenvalues = np.linalg.eigvals(Sigma)\n",
    "\n",
    "# Check if all eigenvalues are non-negative\n",
    "is_positive_semidefinite = np.all(eigenvalues >= 0)\n",
    "print(\"Is Sigma positive semidefinite?\", is_positive_semidefinite)\n",
    "\n"
   ]
  },
  {
   "cell_type": "markdown",
   "metadata": {},
   "source": [
    "## Construct the Model"
   ]
  },
  {
   "cell_type": "code",
   "execution_count": 3,
   "metadata": {},
   "outputs": [],
   "source": [
    "def portfolio(n, pbar, Sigma):\n",
    "    # Create a model\n",
    "    m = pyo.ConcreteModel(\"Extended Portfolio Optimization Problem\")\n",
    "\n",
    "    # Sets of the index\n",
    "    m.i = pyo.RangeSet(0, n-1)\n",
    "\n",
    "    # Decision variables\n",
    "    m.x_long = pyo.Var(range(n), domain=pyo.NonNegativeReals)\n",
    "    m.x_short = pyo.Var(range(n), domain=pyo.NonNegativeReals)\n",
    "\n",
    "    # Objective function\n",
    "    @m.Objective(sense=pyo.minimize)\n",
    "    def objective(m):\n",
    "        return sum(Sigma[i, j] * (m.x_long[i] - m.x_short[i]) * (m.x_long[j] - m.x_short[j]) for i in m.i for j in m.i)\n",
    "\n",
    "    # Constraints\n",
    "    @m.Constraint()\n",
    "    def min_return_rate(m):\n",
    "        return sum(pbar[i] * (m.x_long[i] - m.x_short[i]) for i in range(n)) >= 0.1\n",
    "\n",
    "    @m.Constraint()\n",
    "    def total_sum(m):\n",
    "        return sum((m.x_long[i] - m.x_short[i]) for i in m.i) == 1\n",
    "\n",
    "    @m.Constraint()\n",
    "    def total_short_position(m):\n",
    "        return sum(m.x_short[i] for i in m.i) <= 0.5\n",
    "\n",
    "    # return the finished model\n",
    "    return m"
   ]
  },
  {
   "cell_type": "markdown",
   "metadata": {},
   "source": [
    "## Solve the Model"
   ]
  },
  {
   "cell_type": "code",
   "execution_count": 4,
   "metadata": {},
   "outputs": [],
   "source": [
    "def solve_model(model):\n",
    "    SOLVER.solve(model)\n",
    "    model.display()"
   ]
  },
  {
   "cell_type": "code",
   "execution_count": 5,
   "metadata": {},
   "outputs": [
    {
     "name": "stdout",
     "output_type": "stream",
     "text": [
      "Model Extended Portfolio Optimization Problem\n",
      "\n",
      "  Variables:\n",
      "    x_long : Size=10, Index=x_long_index\n",
      "        Key : Lower : Value                : Upper : Fixed : Stale : Domain\n",
      "          0 :     0 : 0.002322619971796285 :  None : False : False : NonNegativeReals\n",
      "          1 :     0 :   0.2688646872409641 :  None : False : False : NonNegativeReals\n",
      "          2 :     0 : 0.005174864425589278 :  None : False : False : NonNegativeReals\n",
      "          3 :     0 :  0.22439480832765085 :  None : False : False : NonNegativeReals\n",
      "          4 :     0 :  0.14891903312994378 :  None : False : False : NonNegativeReals\n",
      "          5 :     0 :    0.189021210001199 :  None : False : False : NonNegativeReals\n",
      "          6 :     0 :   0.2050592847780979 :  None : False : False : NonNegativeReals\n",
      "          7 :     0 : 0.005316021350962623 :  None : False : False : NonNegativeReals\n",
      "          8 :     0 : 0.005440367250741802 :  None : False : False : NonNegativeReals\n",
      "          9 :     0 :    0.437829806052645 :  None : False : False : NonNegativeReals\n",
      "    x_short : Size=10, Index=x_short_index\n",
      "        Key : Lower : Value                 : Upper : Fixed : Stale : Domain\n",
      "          0 :     0 :   0.03971532659133609 :  None : False : False : NonNegativeReals\n",
      "          1 :     0 :  0.005402502443182705 :  None : False : False : NonNegativeReals\n",
      "          2 :     0 :    0.0490963188511038 :  None : False : False : NonNegativeReals\n",
      "          3 :     0 :  0.005506831996455522 :  None : False : False : NonNegativeReals\n",
      "          4 :     0 :  0.005005032749426624 :  None : False : False : NonNegativeReals\n",
      "          5 :     0 :  0.005061551577197871 :  None : False : False : NonNegativeReals\n",
      "          6 :     0 : 0.0053266691720034644 :  None : False : False : NonNegativeReals\n",
      "          7 :     0 :   0.26862382918617606 :  None : False : False : NonNegativeReals\n",
      "          8 :     0 :   0.10336112257639203 :  None : False : False : NonNegativeReals\n",
      "          9 :     0 :  0.005243517870290646 :  None : False : False : NonNegativeReals\n",
      "\n",
      "  Objectives:\n",
      "    objective : Size=1, Index=None, Active=True\n",
      "        Key  : Active : Value\n",
      "        None :   True : 0.0022284409481733466\n",
      "\n",
      "  Constraints:\n",
      "    min_return_rate : Size=1\n",
      "        Key  : Lower : Body               : Upper\n",
      "        None :   0.1 : 0.0999999999804872 :  None\n",
      "    total_sum : Size=1\n",
      "        Key  : Lower : Body               : Upper\n",
      "        None :   1.0 : 0.9999999995160259 :   1.0\n",
      "    total_short_position : Size=1\n",
      "        Key  : Lower : Body               : Upper\n",
      "        None :  None : 0.4923427030135648 :   0.5\n"
     ]
    }
   ],
   "source": [
    "model = portfolio(n, pbar, Sigma)\n",
    "solve_model(model)"
   ]
  },
  {
   "cell_type": "markdown",
   "metadata": {},
   "source": [
    "## Result Visualization"
   ]
  },
  {
   "cell_type": "code",
   "execution_count": 6,
   "metadata": {},
   "outputs": [
    {
     "data": {
      "text/html": [
       "<div>\n",
       "<style scoped>\n",
       "    .dataframe tbody tr th:only-of-type {\n",
       "        vertical-align: middle;\n",
       "    }\n",
       "\n",
       "    .dataframe tbody tr th {\n",
       "        vertical-align: top;\n",
       "    }\n",
       "\n",
       "    .dataframe thead th {\n",
       "        text-align: right;\n",
       "    }\n",
       "</style>\n",
       "<table border=\"1\" class=\"dataframe\">\n",
       "  <thead>\n",
       "    <tr style=\"text-align: right;\">\n",
       "      <th></th>\n",
       "      <th>x_long</th>\n",
       "      <th>x_short</th>\n",
       "    </tr>\n",
       "  </thead>\n",
       "  <tbody>\n",
       "    <tr>\n",
       "      <th>Asset 1</th>\n",
       "      <td>0.002323</td>\n",
       "      <td>0.039715</td>\n",
       "    </tr>\n",
       "    <tr>\n",
       "      <th>Asset 2</th>\n",
       "      <td>0.268865</td>\n",
       "      <td>0.005403</td>\n",
       "    </tr>\n",
       "    <tr>\n",
       "      <th>Asset 3</th>\n",
       "      <td>0.005175</td>\n",
       "      <td>0.049096</td>\n",
       "    </tr>\n",
       "    <tr>\n",
       "      <th>Asset 4</th>\n",
       "      <td>0.224395</td>\n",
       "      <td>0.005507</td>\n",
       "    </tr>\n",
       "    <tr>\n",
       "      <th>Asset 5</th>\n",
       "      <td>0.148919</td>\n",
       "      <td>0.005005</td>\n",
       "    </tr>\n",
       "    <tr>\n",
       "      <th>Asset 6</th>\n",
       "      <td>0.189021</td>\n",
       "      <td>0.005062</td>\n",
       "    </tr>\n",
       "    <tr>\n",
       "      <th>Asset 7</th>\n",
       "      <td>0.205059</td>\n",
       "      <td>0.005327</td>\n",
       "    </tr>\n",
       "    <tr>\n",
       "      <th>Asset 8</th>\n",
       "      <td>0.005316</td>\n",
       "      <td>0.268624</td>\n",
       "    </tr>\n",
       "    <tr>\n",
       "      <th>Asset 9</th>\n",
       "      <td>0.005440</td>\n",
       "      <td>0.103361</td>\n",
       "    </tr>\n",
       "    <tr>\n",
       "      <th>Asset 10</th>\n",
       "      <td>0.437830</td>\n",
       "      <td>0.005244</td>\n",
       "    </tr>\n",
       "  </tbody>\n",
       "</table>\n",
       "</div>"
      ],
      "text/plain": [
       "            x_long   x_short\n",
       "Asset 1   0.002323  0.039715\n",
       "Asset 2   0.268865  0.005403\n",
       "Asset 3   0.005175  0.049096\n",
       "Asset 4   0.224395  0.005507\n",
       "Asset 5   0.148919  0.005005\n",
       "Asset 6   0.189021  0.005062\n",
       "Asset 7   0.205059  0.005327\n",
       "Asset 8   0.005316  0.268624\n",
       "Asset 9   0.005440  0.103361\n",
       "Asset 10  0.437830  0.005244"
      ]
     },
     "execution_count": 6,
     "metadata": {},
     "output_type": "execute_result"
    }
   ],
   "source": [
    "def visualization(model):\n",
    "    x_long_values = [pyo.value(model.x_long[i]) for i in model.i]\n",
    "    x_short_values = [pyo.value(model.x_short[i]) for i in model.i]\n",
    "    optimal_value = pyo.value(model.objective)\n",
    "\n",
    "    assets = [f'Asset {i}' for i in range(1, n+1)]\n",
    "    df = pd.DataFrame({\n",
    "        'x_long': x_long_values,\n",
    "        'x_short': x_short_values\n",
    "    }, index=assets)\n",
    "    return df, optimal_value\n",
    "\n",
    "result = visualization(model)\n",
    "df = result[0]\n",
    "df"
   ]
  },
  {
   "cell_type": "code",
   "execution_count": 7,
   "metadata": {},
   "outputs": [
    {
     "name": "stdout",
     "output_type": "stream",
     "text": [
      "The optimal value is 0.0022284409481733466. \n"
     ]
    }
   ],
   "source": [
    "print(f\"The optimal value is {result[1]}. \")"
   ]
  }
 ],
 "metadata": {
  "colab": {
   "provenance": []
  },
  "kernelspec": {
   "display_name": "Python 3 (ipykernel)",
   "language": "python",
   "name": "python3"
  },
  "language_info": {
   "codemirror_mode": {
    "name": "ipython",
    "version": 3
   },
   "file_extension": ".py",
   "mimetype": "text/x-python",
   "name": "python",
   "nbconvert_exporter": "python",
   "pygments_lexer": "ipython3",
   "version": "3.9.7"
  }
 },
 "nbformat": 4,
 "nbformat_minor": 1
}
