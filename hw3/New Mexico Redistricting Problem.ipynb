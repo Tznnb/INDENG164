{
 "cells": [
  {
   "cell_type": "markdown",
   "id": "437a012e-c030-4d7f-a007-dce658710e95",
   "metadata": {},
   "source": [
    "# New Mexico Redistricting Problem"
   ]
  },
  {
   "cell_type": "markdown",
   "id": "76ff0bc7-126a-4e6b-b496-cd92d14b93fd",
   "metadata": {},
   "source": [
    "## Import Libraries"
   ]
  },
  {
   "cell_type": "code",
   "execution_count": 1,
   "id": "920904e6-f7c7-4db8-88a8-3428bfe4aa0b",
   "metadata": {},
   "outputs": [],
   "source": [
    "import sys\n",
    "import numpy as np\n",
    "import pandas as pd\n",
    "\n",
    "solver = 'appsi_highs'\n",
    "\n",
    "import pyomo.environ as pyo\n",
    "SOLVER = pyo.SolverFactory(solver)\n",
    "\n",
    "assert SOLVER.available(), f\"Solver {solver} is not available.\""
   ]
  },
  {
   "cell_type": "markdown",
   "id": "dc0649d9-59a4-4784-a2ea-f4b628b9c4ea",
   "metadata": {},
   "source": [
    "## Data Preprocessing"
   ]
  },
  {
   "cell_type": "code",
   "execution_count": 2,
   "id": "6fbe46ef-4c87-4688-8feb-3d1cabe8be48",
   "metadata": {},
   "outputs": [],
   "source": [
    "# Read the CSV file into a pandas DataFrame\n",
    "filename = 'Gerrymandering.csv'\n",
    "data = pd.read_csv(filename)"
   ]
  },
  {
   "cell_type": "markdown",
   "id": "db52ef9e-300d-4e26-96c0-aa54dd2f2a6b",
   "metadata": {},
   "source": [
    "## Construct the Model"
   ]
  },
  {
   "cell_type": "code",
   "execution_count": 3,
   "id": "4e3b5966-a5f0-4990-bf89-1fda70a5d4f5",
   "metadata": {},
   "outputs": [],
   "source": [
    "def redistricting_model(data):\n",
    "    '''\n",
    "    args: \n",
    "        data: DataFrame\n",
    "    return: \n",
    "        model: pyo.ConcreteModel\n",
    "    '''\n",
    "    # Create a model\n",
    "    model = pyo.ConcreteModel(\"New Mexico Redistricting\")\n",
    "\n",
    "    # Sets of districts(i) and counties(j)\n",
    "    model.i = pyo.RangeSet(3)\n",
    "    model.j = pyo.RangeSet(len(data))\n",
    "\n",
    "    # Decision variables\n",
    "    model.x = pyo.Var(model.i, model.j, domain=pyo.Binary)\n",
    "\n",
    "    # Objective function\n",
    "    @model.Objective(sense=pyo.maximize)\n",
    "    def maximize_votes(model):\n",
    "        return sum(model.x[2, j] * data[\"D_j - R_j\"][j - 1] for j in model.j)\n",
    "\n",
    "    # Constraints\n",
    "    # Constraint for counties\n",
    "    @model.Constraint(model.j)\n",
    "    def constraint_counties(model, j):\n",
    "        return sum(model.x[i, j] for i in model.i) == 1\n",
    "\n",
    "    # Constraint for districts\n",
    "    @model.Constraint(model.i)\n",
    "    def constraint_districts(model, i):\n",
    "        return sum(model.x[i, j] for j in model.j) >= 1\n",
    "\n",
    "    # Constraint for votes\n",
    "    @model.Constraint(model.i)\n",
    "    def constraint_votes(model, i):\n",
    "        return sum(model.x[i, j] * data[\"D_j - R_j\"][j - 1] for j in model.j) >= 100\n",
    "    \n",
    "    # return the finished model\n",
    "    return model\n"
   ]
  },
  {
   "cell_type": "markdown",
   "id": "afc9d481-9f4d-4329-af51-9edb81874ff4",
   "metadata": {
    "tags": []
   },
   "source": [
    "## Solve the Model"
   ]
  },
  {
   "cell_type": "code",
   "execution_count": 4,
   "id": "35a4c14e-8ae5-4145-a106-f299654f6fe2",
   "metadata": {},
   "outputs": [],
   "source": [
    "def solve_model(model):\n",
    "    '''\n",
    "    args: \n",
    "        pyo.ConcreteModel\n",
    "    '''\n",
    "    SOLVER.solve(model)\n",
    "    model.display()"
   ]
  },
  {
   "cell_type": "code",
   "execution_count": 5,
   "id": "5e357894-139d-4681-acf4-17d070360737",
   "metadata": {},
   "outputs": [
    {
     "name": "stdout",
     "output_type": "stream",
     "text": [
      "Model New Mexico Redistricting\n",
      "\n",
      "  Variables:\n",
      "    x : Size=99, Index=x_index\n",
      "        Key     : Lower : Value              : Upper : Fixed : Stale : Domain\n",
      "         (1, 1) :     0 :               -0.0 :     1 : False : False : Binary\n",
      "         (1, 2) :     0 :                0.0 :     1 : False : False : Binary\n",
      "         (1, 3) :     0 :               -0.0 :     1 : False : False : Binary\n",
      "         (1, 4) :     0 :                0.0 :     1 : False : False : Binary\n",
      "         (1, 5) :     0 :               -0.0 :     1 : False : False : Binary\n",
      "         (1, 6) :     0 :               -0.0 :     1 : False : False : Binary\n",
      "         (1, 7) :     0 :                1.0 :     1 : False : False : Binary\n",
      "         (1, 8) :     0 :                0.0 :     1 : False : False : Binary\n",
      "         (1, 9) :     0 :               -0.0 :     1 : False : False : Binary\n",
      "        (1, 10) :     0 :                0.0 :     1 : False : False : Binary\n",
      "        (1, 11) :     0 :                1.0 :     1 : False : False : Binary\n",
      "        (1, 12) :     0 :                0.0 :     1 : False : False : Binary\n",
      "        (1, 13) :     0 :               -0.0 :     1 : False : False : Binary\n",
      "        (1, 14) :     0 :                1.0 :     1 : False : False : Binary\n",
      "        (1, 15) :     0 :                0.0 :     1 : False : False : Binary\n",
      "        (1, 16) :     0 :                0.0 :     1 : False : False : Binary\n",
      "        (1, 17) :     0 :                0.0 :     1 : False : False : Binary\n",
      "        (1, 18) :     0 :                0.0 :     1 : False : False : Binary\n",
      "        (1, 19) :     0 :                0.0 :     1 : False : False : Binary\n",
      "        (1, 20) :     0 :                0.0 :     1 : False : False : Binary\n",
      "        (1, 21) :     0 :                0.0 :     1 : False : False : Binary\n",
      "        (1, 22) :     0 :                1.0 :     1 : False : False : Binary\n",
      "        (1, 23) :     0 :                0.0 :     1 : False : False : Binary\n",
      "        (1, 24) :     0 :                0.0 :     1 : False : False : Binary\n",
      "        (1, 25) :     0 :               -0.0 :     1 : False : False : Binary\n",
      "        (1, 26) :     0 :                0.0 :     1 : False : False : Binary\n",
      "        (1, 27) :     0 :                0.0 :     1 : False : False : Binary\n",
      "        (1, 28) :     0 :                0.0 :     1 : False : False : Binary\n",
      "        (1, 29) :     0 :                0.0 :     1 : False : False : Binary\n",
      "        (1, 30) :     0 :                0.0 :     1 : False : False : Binary\n",
      "        (1, 31) :     0 :                0.0 :     1 : False : False : Binary\n",
      "        (1, 32) :     0 :                1.0 :     1 : False : False : Binary\n",
      "        (1, 33) :     0 :                1.0 :     1 : False : False : Binary\n",
      "         (2, 1) :     0 :                0.0 :     1 : False : False : Binary\n",
      "         (2, 2) :     0 :                0.0 :     1 : False : False : Binary\n",
      "         (2, 3) :     0 :                0.0 :     1 : False : False : Binary\n",
      "         (2, 4) :     0 :                1.0 :     1 : False : False : Binary\n",
      "         (2, 5) :     0 :                0.0 :     1 : False : False : Binary\n",
      "         (2, 6) :     0 :                0.0 :     1 : False : False : Binary\n",
      "         (2, 7) :     0 :                0.0 :     1 : False : False : Binary\n",
      "         (2, 8) :     0 :                1.0 :     1 : False : False : Binary\n",
      "         (2, 9) :     0 :                0.0 :     1 : False : False : Binary\n",
      "        (2, 10) :     0 :                1.0 :     1 : False : False : Binary\n",
      "        (2, 11) :     0 :                0.0 :     1 : False : False : Binary\n",
      "        (2, 12) :     0 :               -0.0 :     1 : False : False : Binary\n",
      "        (2, 13) :     0 :                0.0 :     1 : False : False : Binary\n",
      "        (2, 14) :     0 :                0.0 :     1 : False : False : Binary\n",
      "        (2, 15) :     0 :                1.0 :     1 : False : False : Binary\n",
      "        (2, 16) :     0 :                1.0 :     1 : False : False : Binary\n",
      "        (2, 17) :     0 :                1.0 :     1 : False : False : Binary\n",
      "        (2, 18) :     0 :                1.0 :     1 : False : False : Binary\n",
      "        (2, 19) :     0 :                1.0 :     1 : False : False : Binary\n",
      "        (2, 20) :     0 :                0.0 :     1 : False : False : Binary\n",
      "        (2, 21) :     0 :               -0.0 :     1 : False : False : Binary\n",
      "        (2, 22) :     0 :               -0.0 :     1 : False : False : Binary\n",
      "        (2, 23) :     0 :                0.0 :     1 : False : False : Binary\n",
      "        (2, 24) :     0 :                1.0 :     1 : False : False : Binary\n",
      "        (2, 25) :     0 :                0.0 :     1 : False : False : Binary\n",
      "        (2, 26) :     0 :                1.0 :     1 : False : False : Binary\n",
      "        (2, 27) :     0 :                1.0 :     1 : False : False : Binary\n",
      "        (2, 28) :     0 :                0.0 :     1 : False : False : Binary\n",
      "        (2, 29) :     0 :                1.0 :     1 : False : False : Binary\n",
      "        (2, 30) :     0 :                1.0 :     1 : False : False : Binary\n",
      "        (2, 31) :     0 :                0.0 :     1 : False : False : Binary\n",
      "        (2, 32) :     0 :               -0.0 :     1 : False : False : Binary\n",
      "        (2, 33) :     0 :                0.0 :     1 : False : False : Binary\n",
      "         (3, 1) :     0 :                1.0 :     1 : False : False : Binary\n",
      "         (3, 2) :     0 :                1.0 :     1 : False : False : Binary\n",
      "         (3, 3) :     0 :                1.0 :     1 : False : False : Binary\n",
      "         (3, 4) :     0 :                0.0 :     1 : False : False : Binary\n",
      "         (3, 5) :     0 :                1.0 :     1 : False : False : Binary\n",
      "         (3, 6) :     0 :                1.0 :     1 : False : False : Binary\n",
      "         (3, 7) :     0 :               -0.0 :     1 : False : False : Binary\n",
      "         (3, 8) :     0 :               -0.0 :     1 : False : False : Binary\n",
      "         (3, 9) :     0 :                1.0 :     1 : False : False : Binary\n",
      "        (3, 10) :     0 :                0.0 :     1 : False : False : Binary\n",
      "        (3, 11) :     0 :                0.0 :     1 : False : False : Binary\n",
      "        (3, 12) :     0 :                1.0 :     1 : False : False : Binary\n",
      "        (3, 13) :     0 :                1.0 :     1 : False : False : Binary\n",
      "        (3, 14) :     0 :               -0.0 :     1 : False : False : Binary\n",
      "        (3, 15) :     0 :                0.0 :     1 : False : False : Binary\n",
      "        (3, 16) :     0 :                0.0 :     1 : False : False : Binary\n",
      "        (3, 17) :     0 :                0.0 :     1 : False : False : Binary\n",
      "        (3, 18) :     0 :                0.0 :     1 : False : False : Binary\n",
      "        (3, 19) :     0 :                0.0 :     1 : False : False : Binary\n",
      "        (3, 20) :     0 :                1.0 :     1 : False : False : Binary\n",
      "        (3, 21) :     0 :                1.0 :     1 : False : False : Binary\n",
      "        (3, 22) :     0 :                0.0 :     1 : False : False : Binary\n",
      "        (3, 23) :     0 :                1.0 :     1 : False : False : Binary\n",
      "        (3, 24) :     0 :               -0.0 :     1 : False : False : Binary\n",
      "        (3, 25) :     0 :                1.0 :     1 : False : False : Binary\n",
      "        (3, 26) :     0 :                0.0 :     1 : False : False : Binary\n",
      "        (3, 27) :     0 :               -0.0 :     1 : False : False : Binary\n",
      "        (3, 28) :     0 : 1.0000000000000009 :     1 : False : False : Binary\n",
      "        (3, 29) :     0 :                0.0 :     1 : False : False : Binary\n",
      "        (3, 30) :     0 :               -0.0 :     1 : False : False : Binary\n",
      "        (3, 31) :     0 :                1.0 :     1 : False : False : Binary\n",
      "        (3, 32) :     0 :                0.0 :     1 : False : False : Binary\n",
      "        (3, 33) :     0 :               -0.0 :     1 : False : False : Binary\n",
      "\n",
      "  Objectives:\n",
      "    maximize_votes : Size=1, Index=None, Active=True\n",
      "        Key  : Active : Value\n",
      "        None :   True : 76196.0\n",
      "\n",
      "  Constraints:\n",
      "    constraint_counties : Size=33\n",
      "        Key : Lower : Body               : Upper\n",
      "          1 :   1.0 :                1.0 :   1.0\n",
      "          2 :   1.0 :                1.0 :   1.0\n",
      "          3 :   1.0 :                1.0 :   1.0\n",
      "          4 :   1.0 :                1.0 :   1.0\n",
      "          5 :   1.0 :                1.0 :   1.0\n",
      "          6 :   1.0 :                1.0 :   1.0\n",
      "          7 :   1.0 :                1.0 :   1.0\n",
      "          8 :   1.0 :                1.0 :   1.0\n",
      "          9 :   1.0 :                1.0 :   1.0\n",
      "         10 :   1.0 :                1.0 :   1.0\n",
      "         11 :   1.0 :                1.0 :   1.0\n",
      "         12 :   1.0 :                1.0 :   1.0\n",
      "         13 :   1.0 :                1.0 :   1.0\n",
      "         14 :   1.0 :                1.0 :   1.0\n",
      "         15 :   1.0 :                1.0 :   1.0\n",
      "         16 :   1.0 :                1.0 :   1.0\n",
      "         17 :   1.0 :                1.0 :   1.0\n",
      "         18 :   1.0 :                1.0 :   1.0\n",
      "         19 :   1.0 :                1.0 :   1.0\n",
      "         20 :   1.0 :                1.0 :   1.0\n",
      "         21 :   1.0 :                1.0 :   1.0\n",
      "         22 :   1.0 :                1.0 :   1.0\n",
      "         23 :   1.0 :                1.0 :   1.0\n",
      "         24 :   1.0 :                1.0 :   1.0\n",
      "         25 :   1.0 :                1.0 :   1.0\n",
      "         26 :   1.0 :                1.0 :   1.0\n",
      "         27 :   1.0 :                1.0 :   1.0\n",
      "         28 :   1.0 : 1.0000000000000009 :   1.0\n",
      "         29 :   1.0 :                1.0 :   1.0\n",
      "         30 :   1.0 :                1.0 :   1.0\n",
      "         31 :   1.0 :                1.0 :   1.0\n",
      "         32 :   1.0 :                1.0 :   1.0\n",
      "         33 :   1.0 :                1.0 :   1.0\n",
      "    constraint_districts : Size=3\n",
      "        Key : Lower : Body : Upper\n",
      "          1 :   1.0 :  6.0 :  None\n",
      "          2 :   1.0 : 13.0 :  None\n",
      "          3 :   1.0 : 14.0 :  None\n",
      "    constraint_votes : Size=3\n",
      "        Key : Lower : Body               : Upper\n",
      "          1 : 100.0 :              100.0 :  None\n",
      "          2 : 100.0 :            76196.0 :  None\n",
      "          3 : 100.0 : 100.99999999999909 :  None\n"
     ]
    }
   ],
   "source": [
    "model = redistricting_model(data)\n",
    "solve_model(model)"
   ]
  },
  {
   "cell_type": "markdown",
   "id": "02a3ed9a-3144-4dce-bced-c50718a986d5",
   "metadata": {
    "tags": []
   },
   "source": [
    "## Result Visualization"
   ]
  },
  {
   "cell_type": "code",
   "execution_count": 6,
   "id": "dedbeb1a-3127-4901-8127-62e258ee3a48",
   "metadata": {},
   "outputs": [],
   "source": [
    "def visualization(model):\n",
    "    '''\n",
    "    args: \n",
    "        pyo.ConcreteModel\n",
    "    '''\n",
    "    # initialize the map\n",
    "    district_county_map1 = {i: [] for i in model.i}\n",
    "    district_county_map2 = {i: [] for i in model.i}\n",
    "    # build the map\n",
    "    for i in model.i:\n",
    "        for j in model.j:\n",
    "            if pyo.value(model.x[i, j]) == 1:\n",
    "                district_county_map1[i].append(j)\n",
    "                district_county_map2[i].append(data['County'][j-1])\n",
    "    # show the map of version 1\n",
    "    print(\"Show in index of counties: \")\n",
    "    for i in district_county_map1:\n",
    "        print(f\"Counties in district {i}: {district_county_map1[i]}\")\n",
    "    print()\n",
    "    # show the map of version 2\n",
    "    print(\"Show in names of counties: \")\n",
    "    for i in district_county_map2:\n",
    "        print(f\"Counties in district {i}: {district_county_map2[i]}\")"
   ]
  },
  {
   "cell_type": "code",
   "execution_count": 7,
   "id": "f9370531-5c5f-4c9e-a406-2b452592592d",
   "metadata": {},
   "outputs": [
    {
     "name": "stdout",
     "output_type": "stream",
     "text": [
      "Show in index of counties: \n",
      "Counties in district 1: [7, 11, 14, 22, 32, 33]\n",
      "Counties in district 2: [4, 8, 10, 15, 16, 17, 18, 19, 24, 26, 27, 29, 30]\n",
      "Counties in district 3: [1, 2, 3, 5, 6, 9, 12, 13, 20, 21, 23, 25, 31]\n",
      "\n",
      "Show in names of counties: \n",
      "Counties in district 1: ['DeBaca', 'Guadalupe', 'Lea', 'Rio Arriba', 'Union', 'Valencia']\n",
      "Counties in district 2: ['Cibola', 'Dona Ana', 'Grant', 'Lincoln', 'Los Alamos', 'Luna', 'McKinley', 'Mora', 'Sandoval', 'San Miguel', 'Santa Fe', 'Socorro', 'Taos']\n",
      "Counties in district 3: ['Bernalillo', 'Catron', 'Chaves', 'Colfax', 'Curry', 'Eddy', 'Harding', 'Hidalgo', 'Otero', 'Quay', 'Roosevelt', 'San Juan', 'Torrance']\n"
     ]
    }
   ],
   "source": [
    "visualization(model)"
   ]
  }
 ],
 "metadata": {
  "kernelspec": {
   "display_name": "Python 3 (ipykernel)",
   "language": "python",
   "name": "python3"
  },
  "language_info": {
   "codemirror_mode": {
    "name": "ipython",
    "version": 3
   },
   "file_extension": ".py",
   "mimetype": "text/x-python",
   "name": "python",
   "nbconvert_exporter": "python",
   "pygments_lexer": "ipython3",
   "version": "3.9.7"
  }
 },
 "nbformat": 4,
 "nbformat_minor": 5
}
