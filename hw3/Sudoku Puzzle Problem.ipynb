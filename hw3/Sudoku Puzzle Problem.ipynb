{
 "cells": [
  {
   "cell_type": "markdown",
   "id": "fa920ee6",
   "metadata": {},
   "source": [
    "# Sudoku Puzzle Problem"
   ]
  },
  {
   "cell_type": "markdown",
   "id": "fa0212c8",
   "metadata": {},
   "source": [
    "## Import Libraries"
   ]
  },
  {
   "cell_type": "code",
   "execution_count": 1,
   "id": "fee789a8",
   "metadata": {},
   "outputs": [],
   "source": [
    "import sys\n",
    "import numpy as np\n",
    "import pandas as pd\n",
    "\n",
    "solver = 'appsi_highs'\n",
    "\n",
    "import pyomo.environ as pyo\n",
    "SOLVER = pyo.SolverFactory(solver)\n",
    "\n",
    "assert SOLVER.available(), f\"Solver {solver} is not available.\""
   ]
  },
  {
   "cell_type": "markdown",
   "id": "6ce28b63",
   "metadata": {},
   "source": [
    "## Data Preprocessing"
   ]
  },
  {
   "cell_type": "code",
   "execution_count": 2,
   "id": "f3a8bdaa",
   "metadata": {},
   "outputs": [],
   "source": [
    "# convert the grapgh into a set\n",
    "originial_gragh_set ={\n",
    "    (1,6):1,\n",
    "    (2,1):2, (2,2):7, (2,5):9, (2,7):5,\n",
    "    (3,2):8, (3,6):5, (3,9):3,\n",
    "    (4,3):8, (4,5):3, (4,8):2,\n",
    "    (5,2):5, (5,4):1, (5,6):2, (5,8):9,\n",
    "    (6,2):1, (6,5):5, (6,7):7,\n",
    "    (7,1):5, (7,4):6, (7,8):3,\n",
    "    (8,3):9, (8,5):1, (8,8):6, (8,9):2,\n",
    "    (9,4):2\n",
    "    }\n",
    "graph_size = 9"
   ]
  },
  {
   "cell_type": "markdown",
   "id": "292d6011",
   "metadata": {},
   "source": [
    "## Construct the Model"
   ]
  },
  {
   "cell_type": "code",
   "execution_count": 3,
   "id": "8753fcd1",
   "metadata": {},
   "outputs": [],
   "source": [
    "def sudoku_model(gragh_set, graph_size):\n",
    "    # Create a model\n",
    "    model = pyo.ConcreteModel(\"Sudoku Puzzle\")\n",
    "    \n",
    "    # Sets of i, j, k\n",
    "    model.i = pyo.RangeSet(graph_size)\n",
    "    model.j = pyo.RangeSet(graph_size)\n",
    "    model.k = pyo.RangeSet(graph_size)\n",
    "    \n",
    "    # Decision variables\n",
    "    model.x = pyo.Var(model.i, model.j, model.k, domain=pyo.Binary)\n",
    "    \n",
    "    # Load the graph_set\n",
    "    for (i, j), k in gragh_set.items():\n",
    "        model.x[i, j, k].fix(1)\n",
    "\n",
    "    # Objective function\n",
    "    model.obj = pyo.Objective(expr=0)\n",
    "    \n",
    "    # Constraints\n",
    "    # row constraint\n",
    "    @model.Constraint(model.i, model.k)\n",
    "    def row_constraint(model, i, k):\n",
    "        return sum(model.x[i, j, k] for j in model.j) == 1\n",
    "    \n",
    "    # col constraint\n",
    "    @model.Constraint(model.j, model.k)\n",
    "    def col_constraint(model, j, k):\n",
    "        return sum(model.x[i, j, k] for i in model.i) == 1\n",
    "    \n",
    "    # cell constraint\n",
    "    @model.Constraint(model.i, model.j)\n",
    "    def cell_constraint(model, i, j):\n",
    "        return sum(model.x[i, j, k] for k in model.k) == 1\n",
    "    \n",
    "    # area constraint\n",
    "    @model.Constraint(pyo.RangeSet(1,3), pyo.RangeSet(1,3), model.k)\n",
    "    def area_constraint(model, area_i, area_j, k):\n",
    "        return sum(model.x[i,j,k] for i in range(3*(area_i-1)+1, 3*area_i+1) for j in range(3*(area_j-1)+1, 3*area_j+1)) == 1\n",
    "    \n",
    "    return model\n",
    "    "
   ]
  },
  {
   "cell_type": "markdown",
   "id": "0abdd40c",
   "metadata": {},
   "source": [
    "## Solve the Model"
   ]
  },
  {
   "cell_type": "code",
   "execution_count": 4,
   "id": "5dcaa7ed",
   "metadata": {},
   "outputs": [],
   "source": [
    "def solve_model(model):\n",
    "    SOLVER.solve(model)\n",
    "#     model.display()"
   ]
  },
  {
   "cell_type": "code",
   "execution_count": 5,
   "id": "2f7dedd7",
   "metadata": {},
   "outputs": [],
   "source": [
    "model = sudoku_model(originial_gragh_set, graph_size)\n",
    "solve_model(model)"
   ]
  },
  {
   "cell_type": "markdown",
   "id": "5484921e",
   "metadata": {},
   "source": [
    "## Result Visualization"
   ]
  },
  {
   "cell_type": "code",
   "execution_count": 6,
   "id": "f7126036",
   "metadata": {},
   "outputs": [],
   "source": [
    "def visualization(model):\n",
    "    # initialize\n",
    "    sudoku_solution = [[0 for j in range(1, 10)] for i in range(1, 10)]\n",
    "    \n",
    "    # fill the solution matrix\n",
    "    for i in model.i:\n",
    "        for j in model.j:\n",
    "            for k in model.k:\n",
    "                if pyo.value(model.x[i, j, k]) == 1:\n",
    "                    sudoku_solution[i-1][j-1] = k\n",
    "    \n",
    "    # print it!\n",
    "    grid_size = 9\n",
    "    block_size = 3\n",
    "    for i in range(grid_size):\n",
    "        if i % block_size == 0 and i != 0:  \n",
    "            print('-' * (grid_size * 2 + 3))\n",
    "        for j in range(grid_size):\n",
    "            if j % block_size == 0 and j != 0:\n",
    "                print('|', end=' ')\n",
    "            print(sudoku_solution[i][j], end=' ')\n",
    "        print()  \n"
   ]
  },
  {
   "cell_type": "code",
   "execution_count": 7,
   "id": "a5decc41",
   "metadata": {},
   "outputs": [
    {
     "name": "stdout",
     "output_type": "stream",
     "text": [
      "4 6 5 | 3 7 1 | 2 8 9 \n",
      "2 7 3 | 8 9 6 | 5 1 4 \n",
      "9 8 1 | 4 2 5 | 6 7 3 \n",
      "---------------------\n",
      "6 9 8 | 7 3 4 | 1 2 5 \n",
      "7 5 4 | 1 6 2 | 3 9 8 \n",
      "3 1 2 | 9 5 8 | 7 4 6 \n",
      "---------------------\n",
      "5 2 7 | 6 4 9 | 8 3 1 \n",
      "8 3 9 | 5 1 7 | 4 6 2 \n",
      "1 4 6 | 2 8 3 | 9 5 7 \n"
     ]
    }
   ],
   "source": [
    "visualization(model)"
   ]
  }
 ],
 "metadata": {
  "kernelspec": {
   "display_name": "Python 3 (ipykernel)",
   "language": "python",
   "name": "python3"
  },
  "language_info": {
   "codemirror_mode": {
    "name": "ipython",
    "version": 3
   },
   "file_extension": ".py",
   "mimetype": "text/x-python",
   "name": "python",
   "nbconvert_exporter": "python",
   "pygments_lexer": "ipython3",
   "version": "3.9.7"
  }
 },
 "nbformat": 4,
 "nbformat_minor": 5
}
